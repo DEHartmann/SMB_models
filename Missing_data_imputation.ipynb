{
 "cells": [
  {
   "cell_type": "markdown",
   "id": "3e1565f6",
   "metadata": {},
   "source": [
    "# IterativeImputer for missing data imputation"
   ]
  },
  {
   "cell_type": "code",
   "execution_count": null,
   "id": "1035b3ec",
   "metadata": {},
   "outputs": [],
   "source": [
    "import numpy as np\n",
    "import pandas as pd\n",
    "from sklearn.experimental import enable_iterative_imputer\n",
    "from sklearn.impute import IterativeImputer\n",
    "from sklearn.ensemble import RandomForestRegressor\n",
    "pd.set_option('display.max_columns', None)"
   ]
  },
  {
   "cell_type": "code",
   "execution_count": 18,
   "id": "4fab9123",
   "metadata": {},
   "outputs": [
    {
     "data": {
      "text/plain": [
       "Index(['rgi_id', 'dmdtda', 'dvoldt', 'tstar_aar', 'tstar_ela_h',\n",
       "       'avg_ice_thickness', 'ice_volume', 'glacial_lake', 'Slope', 'Aspect',\n",
       "       'Lmax', 'Area', 'Zmax', 'Zmin', 'Zmed', 'O2Region', 'surging',\n",
       "       'debris_area_ela_p', 'debris_vol_ela_p', 'velocity_mean',\n",
       "       'temp_diff_2000_2020', 'temp_mean_2000_2020', 'prcp_diff_2000_2020',\n",
       "       'prcp_mean_2000_2020', 'temp_diff_1980-2000', 'temp_mean_1980-2000',\n",
       "       'prcp_diff_1980_2000', 'prcp_mean_1980_2000', 'Region', 'O1Region'],\n",
       "      dtype='object')"
      ]
     },
     "execution_count": 18,
     "metadata": {},
     "output_type": "execute_result"
    }
   ],
   "source": [
    "# Load dataframe\n",
    "df = pd.read_csv('C:/Users/david/Documents/Thesis/Data/df2000_2020.csv')\n",
    "df = df.iloc[: , 1:]"
   ]
  },
  {
   "cell_type": "code",
   "execution_count": 19,
   "id": "6d5bb8b5",
   "metadata": {},
   "outputs": [
    {
     "data": {
      "text/plain": [
       "rgi_id                   0\n",
       "dmdtda                   0\n",
       "dvoldt                   0\n",
       "tstar_aar               18\n",
       "tstar_ela_h             18\n",
       "avg_ice_thickness        0\n",
       "ice_volume               0\n",
       "glacial_lake             0\n",
       "Slope                    0\n",
       "Aspect                   0\n",
       "Lmax                     0\n",
       "Area                     0\n",
       "Zmax                     0\n",
       "Zmin                     0\n",
       "Zmed                     0\n",
       "O2Region                 0\n",
       "surging                  0\n",
       "debris_area_ela_p        0\n",
       "debris_vol_ela_p         0\n",
       "velocity_mean          311\n",
       "temp_diff_2000_2020      0\n",
       "temp_mean_2000_2020      0\n",
       "prcp_diff_2000_2020      0\n",
       "prcp_mean_2000_2020      0\n",
       "temp_diff_1980-2000      0\n",
       "temp_mean_1980-2000      0\n",
       "prcp_diff_1980_2000      0\n",
       "prcp_mean_1980_2000      0\n",
       "Region                   0\n",
       "O1Region                 0\n",
       "dtype: int64"
      ]
     },
     "execution_count": 19,
     "metadata": {},
     "output_type": "execute_result"
    }
   ],
   "source": [
    "# Inspect missing data\n",
    "df.isnull().sum(axis=0)"
   ]
  },
  {
   "cell_type": "code",
   "execution_count": 22,
   "id": "526948d3",
   "metadata": {},
   "outputs": [],
   "source": [
    "#Source: https://towardsdatascience.com/iterative-imputation-with-scikit-learn-8f3eb22b1a38\n",
    "\n",
    "#Selecting numerical columns of dataframe\n",
    "list_numerical = df.drop(['rgi_id','O2Region','glacial_lake','Aspect', 'surging','Region'],axis=1).columns\n",
    "df_num = df[list_numerical]\n",
    "\n",
    "# Run IterativeImputer\n",
    "imputer = IterativeImputer(RandomForestRegressor(), random_state=42)\n",
    "imputed = imputer.fit_transform(df_num)\n",
    "df_imputed = pd.DataFrame(imputed, columns=df_num.columns)\n",
    "\n",
    "df = pd.concat([df[['rgi_id','O2Region','glacial_lake','Aspect','surging','Region']], df_imputed], axis=1)"
   ]
  },
  {
   "cell_type": "code",
   "execution_count": 26,
   "id": "a44e5c1d",
   "metadata": {},
   "outputs": [],
   "source": [
    "# Save imputed dataframe\n",
    "df.to_csv('df2000_2020_imp.csv')"
   ]
  }
 ],
 "metadata": {
  "kernelspec": {
   "display_name": "Python 3 (ipykernel)",
   "language": "python",
   "name": "python3"
  },
  "language_info": {
   "codemirror_mode": {
    "name": "ipython",
    "version": 3
   },
   "file_extension": ".py",
   "mimetype": "text/x-python",
   "name": "python",
   "nbconvert_exporter": "python",
   "pygments_lexer": "ipython3",
   "version": "3.9.12"
  }
 },
 "nbformat": 4,
 "nbformat_minor": 5
}
